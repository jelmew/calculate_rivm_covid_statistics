{
 "cells": [
  {
   "cell_type": "code",
   "source": [
    "# Clear cache of spark cluster\n",
    "from pyspark.shell import spark\n",
    "spark.catalog.clearCache()\n",
    "print(spark.version)\n"
   ],
   "metadata": {},
   "outputs": [
    {
     "name": "stdout",
     "output_type": "stream",
     "text": [
      "Welcome to\n",
      "      ____              __\n",
      "     / __/__  ___ _____/ /__\n",
      "    _\\ \\/ _ \\/ _ `/ __/  '_/\n",
      "   /__ / .__/\\_,_/_/ /_/\\_\\   version 3.0.0\n",
      "      /_/\n",
      "\n",
      "Using Python version 3.8.5 (default, Sep  4 2020 07:30:14)\n",
      "SparkSession available as 'spark'.\n",
      "3.0.0\n"
     ]
    }
   ],
   "execution_count": 2
  },
  {
   "cell_type": "code",
   "source": [
    "import pandas as pd\nfrom pyspark.sql import functions as f\nfrom pyspark.sql.window import Window\n"
   ],
   "metadata": {},
   "outputs": [],
   "execution_count": null
  },
  {
   "cell_type": "code",
   "source": [
    "#pd_df=pd.read_json(\"https://data.rivm.nl/covid-19/COVID-19_casus_landelijk.json\")\n#df = spark.createDataFrame(pd_df)\n\n"
   ],
   "metadata": {},
   "outputs": [],
   "execution_count": null
  },
  {
   "cell_type": "code",
   "source": [
    "#df.groupBy(df.Date_statistics).count().orderBy(df.Date_statistics, ascending=False).head(n=7)\n\n"
   ],
   "metadata": {},
   "outputs": [],
   "execution_count": null
  },
  {
   "cell_type": "code",
   "source": [
    "pd_df=pd.read_json(\"https://data.rivm.nl/covid-19/COVID-19_aantallen_gemeente_cumulatief.json\")\ndf = spark.createDataFrame(pd_df).withColumn(\"Date_of_report\",f.to_timestamp(f.col(\"Date_of_report\"),\"yyyy-MM-dd HH:mm:ss\"))\n\n\n"
   ],
   "metadata": {},
   "outputs": [],
   "execution_count": null
  },
  {
   "cell_type": "code",
   "source": [
    "icol = [\"Total_reported\",\"Hospital_admission\",\"Deceased\"]\ndf = df.groupby('Date_of_report').agg(*[f.sum(x).alias(x+\"_by_date\") for x in icol])"
   ],
   "metadata": {},
   "outputs": [],
   "execution_count": null
  },
  {
   "cell_type": "code",
   "source": [
    "window=Window.partitionBy().orderBy(\"Date_of_report\")\nicol_new=[col +\"_by_date\" for col in icol]\n \nfor col in icol_new:\n  df=df.withColumn(col+\"_diff\",f.col(col)-f.lag(col,1).over(window))\n\ndf=df.orderBy(\"Date_of_report\", ascending=False)"
   ],
   "metadata": {},
   "outputs": [],
   "execution_count": null
  },
  {
   "cell_type": "code",
   "source": [
    "days = lambda i: i * 86400 "
   ],
   "metadata": {},
   "outputs": [],
   "execution_count": null
  },
  {
   "cell_type": "code",
   "source": [
    "window_7_day=Window.partitionBy().orderBy(f.col(\"Date_of_report\").cast(\"date\")).rowsBetween(-6,0)\nicol_new_7_day_average=[col +\"_diff\" for col in icol_new]\ndf_temp=df\nfor col in icol_new_7_day_average:\n  print(col)\n  df_temp = df_temp.withColumn(col+\"_7_day_average\",f.avg(col).over(window_7_day))\n  \ndf=df_temp\n"
   ],
   "metadata": {},
   "outputs": [],
   "execution_count": null
  },
  {
   "cell_type": "code",
   "source": [
    "print(df.select(\"Date_of_report\",\"Total_reported_by_date_diff\",\"Total_reported_by_date_diff_7_day_average\").orderBy(\"Date_of_report\", ascending=False).head(n=7))"
   ],
   "metadata": {},
   "outputs": [],
   "execution_count": null
  },
  {
   "cell_type": "code",
   "source": [
    "print(df.select(\"Date_of_report\",\"Hospital_admission_by_date_diff\",\"Hospital_admission_by_date_diff_7_day_average\").orderBy(\"Date_of_report\", ascending=False).head(n=3))"
   ],
   "metadata": {},
   "outputs": [],
   "execution_count": null
  },
  {
   "cell_type": "code",
   "source": [
    "display(df.select(\"Date_of_report\",\"Total_reported_by_date_diff\",\"Total_reported_by_date_diff_7_day_average\").orderBy(\"Date_of_report\"))"
   ],
   "metadata": {},
   "outputs": [],
   "execution_count": null
  },
  {
   "cell_type": "code",
   "source": [
    "display(df.select(\"Date_of_report\",'Total_reported_by_date_diff').orderBy(\"Date_of_report\"))"
   ],
   "metadata": {},
   "outputs": [],
   "execution_count": null
  },
  {
   "cell_type": "code",
   "source": [
    "display(df.select(\"Date_of_report\",\"Hospital_admission_by_date_diff_7_day_average\").orderBy(\"Date_of_report\"))"
   ],
   "metadata": {},
   "outputs": [],
   "execution_count": null
  },
  {
   "cell_type": "code",
   "source": [
    ""
   ],
   "metadata": {},
   "outputs": [],
   "execution_count": null
  }
 ],
 "metadata": {
  "name": "covid_data",
  "notebookId": 4151130100156655,
  "kernelspec": {
   "name": "python3",
   "language": "python",
   "display_name": "Python 3"
  }
 },
 "nbformat": 4,
 "nbformat_minor": 0
}